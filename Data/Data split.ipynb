{
 "cells": [
  {
   "cell_type": "markdown",
   "id": "3d32c83b-7d79-4dcf-95f5-d82221ae5402",
   "metadata": {},
   "source": [
    "### Splitting the data into training, validation, and test sets"
   ]
  },
  {
   "cell_type": "code",
   "execution_count": null,
   "id": "dca59ef8-3cba-4465-af52-2acedce0484a",
   "metadata": {},
   "outputs": [],
   "source": [
    "import os\n",
    "from random import shuffle, sample\n",
    "import shutil"
   ]
  },
  {
   "cell_type": "code",
   "execution_count": null,
   "id": "4d9c93b5-023f-492a-b1ad-dcf48d1b75ce",
   "metadata": {},
   "outputs": [],
   "source": [
    "# Files are stored in this format:\n",
    "# AD_ADNI_2445\n",
    "# The first section indicates label\n",
    "\n",
    "data_dir = \"Combined/\"\n",
    "files = os.listdir(data_dir)\n",
    "files.sort()\n",
    "\n",
    "CN_list = []\n",
    "MCI_list = []\n",
    "AD_list = []\n",
    "\n",
    "file_dict = {\"CN\": CN_list, \"MC\": MCI_list, \"AD\": AD_list}\n",
    "\n",
    "for file in files:\n",
    "    file_dict[file[: 2]].append(file)\n",
    "    \n",
    "print(\"Number of CN samples:\", len(CN_list))\n",
    "print(\"Number of MCI samples:\", len(MCI_list))\n",
    "print(\"Number of AD samples:\", len(AD_list))"
   ]
  },
  {
   "cell_type": "code",
   "execution_count": null,
   "id": "6249701c-9f75-41ea-a53c-5b479488e5e3",
   "metadata": {},
   "outputs": [],
   "source": [
    "for _ in range(100):\n",
    "    shuffle(CN_list)\n",
    "    shuffle(MCI_list)\n",
    "    shuffle(AD_list)\n",
    "\n",
    "valid = []\n",
    "for i in range(20):\n",
    "    valid.append(CN_list.pop())\n",
    "    valid.append(MCI_list.pop())\n",
    "    valid.append(AD_list.pop())\n",
    "\n",
    "test = []\n",
    "for i in range(20):\n",
    "    test.append(CN_list.pop())\n",
    "    test.append(MCI_list.pop())\n",
    "    test.append(AD_list.pop())\n",
    "\n",
    "train = CN_list + MCI_list + AD_list\n",
    "    \n",
    "print(\"Number of training samples:\", len(train))\n",
    "print(\"Number of validation samples:\", len(valid))\n",
    "print(\"Number of test samples:\", len(test))"
   ]
  },
  {
   "cell_type": "code",
   "execution_count": null,
   "id": "eed95a0e-0770-423b-b299-43d0185a8e4b",
   "metadata": {},
   "outputs": [],
   "source": [
    "for sample in train:\n",
    "    shutil.move(\"Combined/\" + sample, \"Training/\")"
   ]
  },
  {
   "cell_type": "code",
   "execution_count": null,
   "id": "7ab115e2-a5a2-4611-be85-895818c4c8da",
   "metadata": {},
   "outputs": [],
   "source": [
    "for sample in valid:\n",
    "    shutil.move(\"Combined/\" + sample, \"Validation/\")"
   ]
  },
  {
   "cell_type": "code",
   "execution_count": null,
   "id": "7766e83f-dd43-4b84-b389-093b12476c77",
   "metadata": {},
   "outputs": [],
   "source": [
    "for sample in test:\n",
    "    shutil.move(\"Combined/\" + sample, \"Test/\")"
   ]
  },
  {
   "cell_type": "code",
   "execution_count": null,
   "id": "1ba506a5-3ee5-43ef-a6f0-bead76eb0db1",
   "metadata": {},
   "outputs": [],
   "source": [
    "print(len(os.listdir(\"Training/\")))\n",
    "print(len(os.listdir(\"Validation/\")))\n",
    "print(len(os.listdir(\"Test/\")))"
   ]
  },
  {
   "cell_type": "code",
   "execution_count": null,
   "id": "b585b724-136d-4aca-8b25-54f8a142343b",
   "metadata": {},
   "outputs": [],
   "source": []
  }
 ],
 "metadata": {
  "kernelspec": {
   "display_name": "Python 3 (ipykernel)",
   "language": "python",
   "name": "python3"
  },
  "language_info": {
   "codemirror_mode": {
    "name": "ipython",
    "version": 3
   },
   "file_extension": ".py",
   "mimetype": "text/x-python",
   "name": "python",
   "nbconvert_exporter": "python",
   "pygments_lexer": "ipython3",
   "version": "3.9.7"
  }
 },
 "nbformat": 4,
 "nbformat_minor": 5
}
