{
 "cells": [
  {
   "cell_type": "markdown",
   "id": "efc1e3c2-ad58-478e-bc43-e76b3ac99306",
   "metadata": {},
   "source": [
    "### Extracting samples that are present in ours and readers' test sets"
   ]
  },
  {
   "cell_type": "code",
   "execution_count": null,
   "id": "6d0b486e-8d57-483f-8b24-e0f354c9e28c",
   "metadata": {},
   "outputs": [],
   "source": [
    "import pandas as pd\n",
    "samples = [1111, 2789, 1097, 2694, 2783, 886, 1057]"
   ]
  },
  {
   "cell_type": "code",
   "execution_count": null,
   "id": "ba05cb5a-6b3a-4b18-b482-2909cb349181",
   "metadata": {},
   "outputs": [],
   "source": [
    "df = pd.read_csv(\"AAL/reader_observations.csv\")"
   ]
  },
  {
   "cell_type": "code",
   "execution_count": null,
   "id": "9ebe572b-3727-41b9-bf73-70268136863e",
   "metadata": {},
   "outputs": [],
   "source": [
    "df"
   ]
  },
  {
   "cell_type": "code",
   "execution_count": null,
   "id": "4e9af3f1-13bf-408a-91bd-e66365ce483a",
   "metadata": {},
   "outputs": [],
   "source": [
    "readers = list(set(df['reader']))\n",
    "readers"
   ]
  },
  {
   "cell_type": "code",
   "execution_count": null,
   "id": "37886475-1d73-4c56-adfe-3d90bd52beaa",
   "metadata": {},
   "outputs": [],
   "source": [
    "i = 6\n",
    "sub_df = df[df['scanid']==samples[i]]\n",
    "sub_df"
   ]
  },
  {
   "cell_type": "code",
   "execution_count": null,
   "id": "4787235c-8d8c-44c7-bcd2-ff7a1ee5cf39",
   "metadata": {},
   "outputs": [],
   "source": []
  }
 ],
 "metadata": {
  "kernelspec": {
   "display_name": "Python 3 (ipykernel)",
   "language": "python",
   "name": "python3"
  },
  "language_info": {
   "codemirror_mode": {
    "name": "ipython",
    "version": 3
   },
   "file_extension": ".py",
   "mimetype": "text/x-python",
   "name": "python",
   "nbconvert_exporter": "python",
   "pygments_lexer": "ipython3",
   "version": "3.9.7"
  }
 },
 "nbformat": 4,
 "nbformat_minor": 5
}
