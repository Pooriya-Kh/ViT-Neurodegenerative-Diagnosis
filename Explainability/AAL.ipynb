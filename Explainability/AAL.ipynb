{
 "cells": [
  {
   "cell_type": "code",
   "execution_count": null,
   "id": "5f29d04a-0897-4de3-a8b2-5bf761174304",
   "metadata": {},
   "outputs": [],
   "source": [
    "# Autoreload modules\n",
    "%load_ext autoreload\n",
    "%autoreload 2"
   ]
  },
  {
   "cell_type": "code",
   "execution_count": null,
   "id": "b46036f1-9410-4b77-bdd0-fa2c5e3513e6",
   "metadata": {},
   "outputs": [],
   "source": [
    "# To have access to moduels\n",
    "import sys,os\n",
    "sys.path.append(os.path.dirname(os.path.realpath('')) + '/Modules')\n",
    "\n",
    "import matplotlib.pyplot as plt\n",
    "import pandas as pd\n",
    "\n",
    "from torchvision.transforms import Compose, Resize, InterpolationMode\n",
    "\n",
    "from atlas.atlas import AAL, AAL3Channels, ReadersAtlas, ReadersAtlas3Channels"
   ]
  },
  {
   "cell_type": "code",
   "execution_count": null,
   "id": "eb448b13-fbde-4269-9590-206531b428f4",
   "metadata": {},
   "outputs": [],
   "source": [
    "transforms=Compose([Resize((384, 384), interpolation=InterpolationMode.NEAREST)])"
   ]
  },
  {
   "cell_type": "markdown",
   "id": "d1fd10b3-a24f-479e-8139-bb91cd516cee",
   "metadata": {
    "tags": []
   },
   "source": [
    "# AAL"
   ]
  },
  {
   "cell_type": "code",
   "execution_count": null,
   "id": "f50eca8d-387a-4bca-8943-ed2e461a0ebb",
   "metadata": {},
   "outputs": [],
   "source": [
    "aal_data, aal_labels = AAL(aal_dir='../Data/AAL/Resized_AAL.nii',\n",
    "                           labels_dir='../Data/AAL/ROI_MNI_V4.txt',\n",
    "                           rotate=True).get_data()\n",
    "\n",
    "print(aal_data.shape, '\\n')\n",
    "print(aal_labels, '\\n')\n",
    "        \n",
    "fig, ax = plt.subplots(ncols=10, nrows=6, dpi=300)\n",
    "for row in range(6):\n",
    "    for col in range(10):\n",
    "        idx = row * 10 + col\n",
    "        if idx < 60:\n",
    "            ax[row, col].imshow(aal_data[idx, :, :])\n",
    "        ax[row, col].axis(\"off\")"
   ]
  },
  {
   "cell_type": "markdown",
   "id": "646b16c5-76ca-4954-b947-1c8895b6161e",
   "metadata": {},
   "source": [
    "# 3-Channels AAL"
   ]
  },
  {
   "cell_type": "code",
   "execution_count": null,
   "id": "5fbb4768-f264-4ff1-a1eb-f2bb3cd00601",
   "metadata": {},
   "outputs": [],
   "source": [
    "aal_data, aal_labels = AAL3Channels(aal_dir='../Data/AAL/Resized_AAL.nii',\n",
    "                                    labels_dir='../Data/AAL/ROI_MNI_V4.txt',\n",
    "                                    rotate=True,\n",
    "                                    transforms=None,\n",
    "                                    duplicate_channels=False).get_data()\n",
    "\n",
    "print(aal_data.shape, '\\n')\n",
    "print(aal_labels, '\\n')\n",
    "        \n",
    "fig, axes = plt.subplots(ncols=3, figsize=(6, 2), dpi=300)\n",
    "for i in range(3):\n",
    "    axes[i].imshow(aal_data[i, :, :])\n",
    "    axes[i].axis(\"off\");"
   ]
  },
  {
   "cell_type": "markdown",
   "id": "dd67954d-3fcb-42e7-b289-afc13bc409d1",
   "metadata": {},
   "source": [
    "# Readers' Atlas"
   ]
  },
  {
   "cell_type": "code",
   "execution_count": null,
   "id": "f8997dd8-19a7-4b5e-927e-bbc4e1f59dd3",
   "metadata": {},
   "outputs": [],
   "source": [
    "readers_atlas = ReadersAtlas(aal_dir='../Data/AAL/Resized_AAL.nii',\n",
    "                             labels_dir='../Data/AAL/ROI_MNI_V4.txt',\n",
    "                             rotate=True)\n",
    "\n",
    "readers_atlas_data, readers_atlas_labels = readers_atlas.get_data()\n",
    "\n",
    "print(readers_atlas_data.shape, '\\n')\n",
    "print(readers_atlas_labels, '\\n')\n",
    "        \n",
    "fig, ax = plt.subplots(ncols=10, nrows=6, dpi=300)\n",
    "for row in range(6):\n",
    "    for col in range(10):\n",
    "        idx = row * 10 + col\n",
    "        if idx < 60:\n",
    "            ax[row, col].imshow(readers_atlas_data[idx, :, :])\n",
    "        ax[row, col].axis(\"off\")"
   ]
  },
  {
   "cell_type": "markdown",
   "id": "1efb8be2-8d34-4b4f-9ec3-9ed68411867d",
   "metadata": {},
   "source": [
    "# 3-Channels Readers' Atlas"
   ]
  },
  {
   "cell_type": "code",
   "execution_count": null,
   "id": "9ca52abd-3201-4cca-b1ef-9ff48e34a088",
   "metadata": {},
   "outputs": [],
   "source": [
    "readers_atlas = ReadersAtlas3Channels(aal_dir='../Data/AAL/Resized_AAL.nii',\n",
    "                                      labels_dir='../Data/AAL/ROI_MNI_V4.txt',\n",
    "                                      rotate=True,\n",
    "                                      transforms=None)\n",
    "\n",
    "readers_atlas_data, readers_atlas_labels = readers_atlas.get_data()\n",
    "\n",
    "print(readers_atlas_data.shape, '\\n')\n",
    "print(readers_atlas_labels, '\\n')\n",
    "        \n",
    "fig, axes = plt.subplots(ncols=3, figsize=(6, 2), dpi=300)\n",
    "for i in range(3):\n",
    "    axes[i].imshow(readers_atlas_data[i, :, :])\n",
    "    axes[i].axis(\"off\");"
   ]
  },
  {
   "cell_type": "code",
   "execution_count": null,
   "id": "d7a03030-8b03-4784-926f-e4ef6ee1757c",
   "metadata": {},
   "outputs": [],
   "source": []
  }
 ],
 "metadata": {
  "kernelspec": {
   "display_name": "Python 3 (ipykernel)",
   "language": "python",
   "name": "python3"
  },
  "language_info": {
   "codemirror_mode": {
    "name": "ipython",
    "version": 3
   },
   "file_extension": ".py",
   "mimetype": "text/x-python",
   "name": "python",
   "nbconvert_exporter": "python",
   "pygments_lexer": "ipython3",
   "version": "3.9.7"
  }
 },
 "nbformat": 4,
 "nbformat_minor": 5
}
