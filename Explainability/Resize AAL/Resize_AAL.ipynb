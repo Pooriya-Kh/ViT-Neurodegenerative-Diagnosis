{
 "cells": [
  {
   "cell_type": "code",
   "execution_count": null,
   "id": "8c8d1f96-bf2b-4050-984c-891fb12b6622",
   "metadata": {},
   "outputs": [],
   "source": [
    "# Autoreload modules\n",
    "%load_ext autoreload\n",
    "%autoreload 2"
   ]
  },
  {
   "cell_type": "code",
   "execution_count": null,
   "id": "47cf5fe5-5a88-4aa1-b0d4-bb962a0b5ee2",
   "metadata": {},
   "outputs": [],
   "source": [
    "# To have access to moduels\n",
    "import sys,os\n",
    "sys.path.append(os.path.dirname(os.path.realpath('..')) + '/Modules')"
   ]
  },
  {
   "cell_type": "code",
   "execution_count": null,
   "id": "884c6373-bdea-4948-ae9f-72157e87a8a9",
   "metadata": {},
   "outputs": [],
   "source": [
    "import matplotlib.pyplot as plt\n",
    "from dataloader.dataset import ADNI\n",
    "import nibabel as nib"
   ]
  },
  {
   "cell_type": "markdown",
   "id": "94add27b-8486-48cf-8b60-38a706a628d8",
   "metadata": {},
   "source": [
    "# Original AAL"
   ]
  },
  {
   "cell_type": "code",
   "execution_count": null,
   "id": "8a99dc83-8b53-46da-b15c-186502f38e8e",
   "metadata": {},
   "outputs": [],
   "source": [
    "original_aal = nib.load('../../Data/AAL/AAL.nii')\n",
    "original_aal_np = original_aal.get_fdata()\n",
    "original_aal_np.shape"
   ]
  },
  {
   "cell_type": "code",
   "execution_count": null,
   "id": "c7bd318b-2a1c-4228-aece-9e939442762b",
   "metadata": {},
   "outputs": [],
   "source": [
    "fig, axes = plt.subplots(nrows=10, ncols=10, figsize=(3, 2), dpi=300)\n",
    "for row in range(10):\n",
    "    for col in range(10):\n",
    "        idx = row * 10 + col\n",
    "        if idx < 91:\n",
    "            axes[row, col].imshow(original_aal_np[:, :, idx])\n",
    "        axes[row, col].axis(\"off\");"
   ]
  },
  {
   "cell_type": "markdown",
   "id": "7e115e79-73b5-4872-872a-8822d51ff9ae",
   "metadata": {},
   "source": [
    "# Saving Nifti File"
   ]
  },
  {
   "cell_type": "code",
   "execution_count": null,
   "id": "b930c5bb-ef6c-4913-9ef7-503961aeaea9",
   "metadata": {},
   "outputs": [],
   "source": [
    "ds = ADNI(\"../../Data/Training/\", transforms=None, rotate=False)"
   ]
  },
  {
   "cell_type": "code",
   "execution_count": null,
   "id": "856db5bd-d4bd-4c18-83ac-614b33a3f1e8",
   "metadata": {},
   "outputs": [],
   "source": [
    "image, label = ds[0]\n",
    "print(image.shape)\n",
    "# Scan's pixel values must be normalized to preserve atlas values\n",
    "# Don't drop channels. Use (79x95x79)\n",
    "fig, axes = plt.subplots(nrows=8, ncols=10, figsize=(3, 2), dpi=300)\n",
    "for row in range(8):\n",
    "    for col in range(10):\n",
    "        idx = row * 10 + col\n",
    "        if idx < 79:\n",
    "            axes[row, col].imshow(image[idx, :, :])\n",
    "        axes[row, col].axis(\"off\");"
   ]
  },
  {
   "cell_type": "code",
   "execution_count": null,
   "id": "9999565d-4a2e-488d-8494-57bf80e7961d",
   "metadata": {},
   "outputs": [],
   "source": [
    "print(image.max(), image.min())"
   ]
  },
  {
   "cell_type": "code",
   "execution_count": null,
   "id": "f65b4893-2296-4295-be29-99aeca7278c0",
   "metadata": {},
   "outputs": [],
   "source": [
    "affine = nib.load(ds.files_dir[0]).affine\n",
    "nii = nib.Nifti1Image(dataobj=image.permute(1, 2, 0).numpy(), affine=affine)"
   ]
  },
  {
   "cell_type": "code",
   "execution_count": null,
   "id": "a6d3e07b-9fca-4534-92b7-aee7c2ffe39b",
   "metadata": {},
   "outputs": [],
   "source": [
    "nib.save(nii, 'normalized.nii')"
   ]
  },
  {
   "cell_type": "markdown",
   "id": "2b1cdb96-7644-4a95-8bb2-673a3cec3d51",
   "metadata": {},
   "source": [
    "# Checking AAL Resized with MRIcron"
   ]
  },
  {
   "cell_type": "code",
   "execution_count": null,
   "id": "c0801e6b-ad0c-4c82-828e-efb9826a8b94",
   "metadata": {},
   "outputs": [],
   "source": [
    "resized_aal = nib.load('Resized_AAL.nii')"
   ]
  },
  {
   "cell_type": "code",
   "execution_count": null,
   "id": "ff923934-8dec-48cd-a91a-1fcf1d072871",
   "metadata": {},
   "outputs": [],
   "source": [
    "resized_aal_np = resized_aal.get_fdata()"
   ]
  },
  {
   "cell_type": "code",
   "execution_count": null,
   "id": "8f8ce1e8-dec5-4128-a1e4-1074abd0d917",
   "metadata": {},
   "outputs": [],
   "source": [
    "resized_aal_np.shape"
   ]
  },
  {
   "cell_type": "code",
   "execution_count": null,
   "id": "9f19770e-b990-4e10-b895-1197fe028ea6",
   "metadata": {},
   "outputs": [],
   "source": [
    "fig, axes = plt.subplots(nrows=8, ncols=10, figsize=(3, 2), dpi=300)\n",
    "for row in range(8):\n",
    "    for col in range(10):\n",
    "        idx = row * 10 + col\n",
    "        if idx < 79:\n",
    "            axes[row, col].imshow(resized_aal_np[:, :, idx])\n",
    "        axes[row, col].axis(\"off\");"
   ]
  },
  {
   "cell_type": "markdown",
   "id": "e479a3d7-8cf5-42ae-bded-7a776c2a690e",
   "metadata": {},
   "source": [
    "# Checking Correspondence Between AAL and Scans"
   ]
  },
  {
   "cell_type": "code",
   "execution_count": null,
   "id": "ed2cd68b-b1ef-45de-865a-d39431d70d4d",
   "metadata": {},
   "outputs": [],
   "source": [
    "import numpy as np\n",
    "img = image.permute(1, 2, 0).numpy()\n",
    "img = np.where(img>0, 1, 0)\n",
    "resized_aal_np = np.where(resized_aal_np>0, 1, 0)\n",
    "sub = img - resized_aal_np\n",
    "sub = np.where(sub>0, 1, 0)\n",
    "\n",
    "fig, axes = plt.subplots(nrows=8, ncols=10, figsize=(3, 2), dpi=300)\n",
    "for row in range(8):\n",
    "    for col in range(10):\n",
    "        idx = row * 10 + col\n",
    "        if idx < 79:\n",
    "            axes[row, col].imshow(sub[:, :, idx])\n",
    "        axes[row, col].axis(\"off\");"
   ]
  },
  {
   "cell_type": "code",
   "execution_count": null,
   "id": "3ce44bec-c803-47ce-9db2-6847ab5dd67f",
   "metadata": {},
   "outputs": [],
   "source": []
  }
 ],
 "metadata": {
  "kernelspec": {
   "display_name": "Python 3 (ipykernel)",
   "language": "python",
   "name": "python3"
  },
  "language_info": {
   "codemirror_mode": {
    "name": "ipython",
    "version": 3
   },
   "file_extension": ".py",
   "mimetype": "text/x-python",
   "name": "python",
   "nbconvert_exporter": "python",
   "pygments_lexer": "ipython3",
   "version": "3.9.7"
  }
 },
 "nbformat": 4,
 "nbformat_minor": 5
}
