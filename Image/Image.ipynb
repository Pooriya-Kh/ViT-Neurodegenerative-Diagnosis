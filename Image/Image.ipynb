{
 "cells": [
  {
   "cell_type": "markdown",
   "id": "78b37384-eea4-4bfa-8024-1821011f912b",
   "metadata": {},
   "source": [
    "# Preparing images for thesis report"
   ]
  },
  {
   "cell_type": "code",
   "execution_count": null,
   "id": "a617afa6-9330-4bcd-89d9-3a7390d495d2",
   "metadata": {},
   "outputs": [],
   "source": [
    "# Autoreload modules\n",
    "%load_ext autoreload\n",
    "%autoreload 2"
   ]
  },
  {
   "cell_type": "code",
   "execution_count": null,
   "id": "191620b7-178f-4d2e-8a0b-bf93f592af20",
   "metadata": {},
   "outputs": [],
   "source": [
    "# To have access to moduels\n",
    "import sys,os\n",
    "sys.path.append(os.path.dirname(os.path.realpath('')) + '/Modules')"
   ]
  },
  {
   "cell_type": "code",
   "execution_count": null,
   "id": "a7c046f8-23f0-4794-a7e9-b7cbeda7969b",
   "metadata": {},
   "outputs": [],
   "source": [
    "from torchvision.transforms import Resize, Compose\n",
    "\n",
    "from matplotlib import pyplot as plt\n",
    "\n",
    "from dataloader.dataset import ADNI3Channels, ADNI\n",
    "from dataloader.dataloader import ADNILoader\n",
    "from utils.utils import image_split, image_split_multi_channel"
   ]
  },
  {
   "cell_type": "markdown",
   "id": "d7812c30-06b5-4868-911d-432a736d250b",
   "metadata": {},
   "source": [
    "## 3-channel images"
   ]
  },
  {
   "cell_type": "code",
   "execution_count": null,
   "id": "f6bc384b-769b-4962-b974-c57449efc7ba",
   "metadata": {},
   "outputs": [],
   "source": [
    "image_size = (384, 384)\n",
    "resize = Resize(size=image_size)\n",
    "\n",
    "train_transforms = Compose([resize])\n",
    "valid_transforms = Compose([resize])\n",
    "test_transforms = Compose([resize])"
   ]
  },
  {
   "cell_type": "code",
   "execution_count": null,
   "id": "f4effbed-805a-4c60-b420-adcb53c27dce",
   "metadata": {},
   "outputs": [],
   "source": [
    "train_ds = ADNI3Channels(\"../Data/Training/\", transforms=train_transforms, rotate=True)\n",
    "valid_ds = ADNI3Channels(\"../Data/Validation/\", transforms=valid_transforms, rotate=True)\n",
    "test_ds = ADNI3Channels(\"../Data/Test/\", transforms=test_transforms, rotate=True)"
   ]
  },
  {
   "cell_type": "code",
   "execution_count": null,
   "id": "4af056c4-b0a1-497a-bb87-5e27c8d6a17f",
   "metadata": {},
   "outputs": [],
   "source": [
    "idx = 0\n",
    "image, label = train_ds[idx]\n",
    "fig, ax = plt.subplots(dpi=300)\n",
    "ax.imshow(image[0, :, :])\n",
    "ax.axis(\"off\");"
   ]
  },
  {
   "cell_type": "code",
   "execution_count": null,
   "id": "5a4ef8d0-9e84-4175-b134-9a52c75e3e80",
   "metadata": {},
   "outputs": [],
   "source": [
    "image_split(image, 0)"
   ]
  },
  {
   "cell_type": "markdown",
   "id": "958b7c6b-3b1c-43e9-a7d1-bd48939376ab",
   "metadata": {},
   "source": [
    "## 60-channel images"
   ]
  },
  {
   "cell_type": "code",
   "execution_count": null,
   "id": "a9a625f5-ce01-4738-b02e-8c4305ca1862",
   "metadata": {},
   "outputs": [],
   "source": [
    "train_ds = ADNI(\"../Data/Training/\", transforms=None, rotate=True)\n",
    "valid_ds = ADNI(\"../Data/Validation/\", transforms=None, rotate=True)\n",
    "test_ds = ADNI(\"../Data/Test/\", transforms=None, rotate=True)"
   ]
  },
  {
   "cell_type": "code",
   "execution_count": null,
   "id": "2f289dd7-dd3f-442c-b47c-d0c5e8b1bcd7",
   "metadata": {},
   "outputs": [],
   "source": [
    "idx = 0\n",
    "image, label = train_ds[idx]\n",
    "fig, ax = plt.subplots(dpi=300)\n",
    "ax.imshow(image[30, :, :])\n",
    "ax.axis(\"off\");"
   ]
  },
  {
   "cell_type": "code",
   "execution_count": null,
   "id": "ac28237d-0e7a-4009-a0c7-4580eeb52dde",
   "metadata": {},
   "outputs": [],
   "source": [
    "image_split_multi_channel(image, 30)"
   ]
  },
  {
   "cell_type": "code",
   "execution_count": null,
   "id": "0f6c8cfe-3ecf-442f-806d-3545740fd1a3",
   "metadata": {},
   "outputs": [],
   "source": []
  }
 ],
 "metadata": {
  "kernelspec": {
   "display_name": "Python 3 (ipykernel)",
   "language": "python",
   "name": "python3"
  },
  "language_info": {
   "codemirror_mode": {
    "name": "ipython",
    "version": 3
   },
   "file_extension": ".py",
   "mimetype": "text/x-python",
   "name": "python",
   "nbconvert_exporter": "python",
   "pygments_lexer": "ipython3",
   "version": "3.9.7"
  }
 },
 "nbformat": 4,
 "nbformat_minor": 5
}
