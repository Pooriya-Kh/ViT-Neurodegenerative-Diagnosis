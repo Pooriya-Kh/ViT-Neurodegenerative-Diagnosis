{
 "cells": [
  {
   "cell_type": "code",
   "execution_count": null,
   "id": "b652af7e-f4c1-46f5-9983-e9f073df1749",
   "metadata": {},
   "outputs": [],
   "source": [
    "# Autoreload modules\n",
    "%load_ext autoreload\n",
    "%autoreload 2"
   ]
  },
  {
   "cell_type": "code",
   "execution_count": null,
   "id": "04f6811b-a6c9-4615-9ffc-1010c0f8098b",
   "metadata": {},
   "outputs": [],
   "source": [
    "# To have access to moduels\n",
    "import sys,os\n",
    "sys.path.append(os.path.dirname(os.path.realpath('')) + '/Modules')"
   ]
  },
  {
   "cell_type": "code",
   "execution_count": null,
   "id": "943f07af-82db-4f43-b7ae-17f0e5ae8793",
   "metadata": {
    "tags": []
   },
   "outputs": [],
   "source": [
    "import numpy as np\n",
    "\n",
    "import torch\n",
    "import torch.nn as nn\n",
    "\n",
    "from matplotlib import pyplot as plt\n",
    "\n",
    "import pandas as pd\n",
    "from sklearn.decomposition import PCA\n",
    "from sklearn.preprocessing import StandardScaler\n",
    "\n",
    "from dataloader.dataset import ADNI\n",
    "from dataloader.dataloader import ADNILoader\n",
    "\n",
    "from utils.report import sklearn_classification_report"
   ]
  },
  {
   "cell_type": "markdown",
   "id": "524579bc-fa07-4fd3-8b03-7a6c7090d8cd",
   "metadata": {},
   "source": [
    "# Dataset and Dataloader Setup"
   ]
  },
  {
   "cell_type": "code",
   "execution_count": null,
   "id": "35d16e77-75f9-4675-a538-767aee133120",
   "metadata": {},
   "outputs": [],
   "source": [
    "train_ds = ADNI(\"../Data/Training/\", transforms=None, extra_channel_dim=True, rotate=True)\n",
    "valid_ds = ADNI(\"../Data/Validation/\", transforms=None, extra_channel_dim=True, rotate=True)\n",
    "test_ds = ADNI(\"../Data/Test/\", transforms=None, extra_channel_dim=True, rotate=True)"
   ]
  },
  {
   "cell_type": "code",
   "execution_count": null,
   "id": "053da8b9-7744-4552-9db5-c93ad3307c4a",
   "metadata": {},
   "outputs": [],
   "source": [
    "idx = 0\n",
    "image, label = train_ds[idx]\n",
    "\n",
    "print(\"Image shape:\", image.shape)\n",
    "print(\"Label:\", label.item())\n",
    "\n",
    "print(\"Number of training samples:\", len(train_ds))\n",
    "print(\"Number of validation samples:\", len(valid_ds))\n",
    "print(\"Number of test samples:\", len(test_ds), \"\\n\")\n",
    "\n",
    "image = image[0, :, :]\n",
    "fig, axes = plt.subplots(nrows=6, ncols=10, figsize=(3, 2), dpi=300)\n",
    "for row in range(6):\n",
    "    for col in range(10):\n",
    "        idx = row * 10 + col\n",
    "        axes[row, col].imshow(image[idx, :, :])\n",
    "        axes[row, col].axis(\"off\");"
   ]
  },
  {
   "cell_type": "code",
   "execution_count": null,
   "id": "c75590ba-ad21-496b-9a08-f6992fd77369",
   "metadata": {},
   "outputs": [],
   "source": [
    "id2label = {0: \"CN\", 1: \"MCI\", 2: \"AD\"}\n",
    "label2id = {\"CN\": 0, \"MCI\": 1, \"AD\": 2}\n",
    "\n",
    "print(id2label[label.item()])"
   ]
  },
  {
   "cell_type": "code",
   "execution_count": null,
   "id": "04b9beb7-69d8-4fdc-84e0-fb3bc1bfb091",
   "metadata": {},
   "outputs": [],
   "source": [
    "train_batch_size = 8\n",
    "valid_batch_size = 2\n",
    "test_batch_size = 2\n",
    "\n",
    "hparams = {'train_ds': train_ds,\n",
    "           'valid_ds': valid_ds,\n",
    "           'test_ds': test_ds,\n",
    "           'train_batch_size': train_batch_size,\n",
    "           'valid_batch_size': valid_batch_size,\n",
    "           'test_batch_size': test_batch_size,\n",
    "           'num_workers': 20,\n",
    "           'train_shuffle': False,\n",
    "           'valid_shuffle': False,\n",
    "           'test_shuffle': False,\n",
    "           'train_drop_last': False,\n",
    "           'valid_drop_last': False,\n",
    "           'test_drop_last': False,\n",
    "          }\n",
    "\n",
    "train_dataloader = ADNILoader(**hparams).train_dataloader()\n",
    "valid_dataloader= ADNILoader(**hparams).validation_dataloader()\n",
    "test_dataloader = ADNILoader(**hparams).test_dataloader()\n",
    "\n",
    "batch = next(iter(train_dataloader))\n",
    "print(batch[0].shape)\n",
    "print(batch[1].shape)"
   ]
  },
  {
   "cell_type": "markdown",
   "id": "386f30a4-a8e6-425b-837d-135bdd21c37f",
   "metadata": {
    "tags": []
   },
   "source": [
    "# Model"
   ]
  },
  {
   "cell_type": "code",
   "execution_count": null,
   "id": "f1bae4fc-5a8f-45b6-a7ca-3d17829c7286",
   "metadata": {},
   "outputs": [],
   "source": [
    "class CNN(nn.Module):\n",
    "    def __init__(self, num_labels=3):\n",
    "        super(CNN, self).__init__()\n",
    "        self.num_labels = num_labels\n",
    "        \n",
    "        self.model = nn.Sequential(\n",
    "            nn.Conv3d(in_channels=1, out_channels=5, kernel_size=(3, 3, 3)),\n",
    "            nn.ReLU(),            \n",
    "            nn.Conv3d(in_channels=5, out_channels=10, kernel_size=(3, 3, 3)),\n",
    "            nn.ReLU(),\n",
    "            nn.Dropout3d(0.2),\n",
    "            \n",
    "            nn.MaxPool3d(kernel_size=(3, 3, 3)),\n",
    "            nn.BatchNorm3d(num_features=10),\n",
    "            \n",
    "            nn.Conv3d(in_channels=10, out_channels=15, kernel_size=(3, 3, 3)),\n",
    "            nn.ReLU(),\n",
    "            nn.Conv3d(in_channels=15, out_channels=20, kernel_size=(3, 3, 3)),\n",
    "            nn.ReLU(),\n",
    "            nn.Dropout3d(0.2),\n",
    "            \n",
    "            nn.MaxPool3d(kernel_size=(3, 3, 3)),\n",
    "            nn.BatchNorm3d(num_features=20),\n",
    "            \n",
    "            nn.Flatten(),\n",
    "            \n",
    "            nn.Linear(4480, 512),\n",
    "            nn.ReLU(),\n",
    "            nn.Dropout(0.5),\n",
    "            nn.Linear(512, 128),\n",
    "            nn.ReLU(),\n",
    "            nn.Dropout(0.5),\n",
    "            nn.Linear(128, 3),\n",
    "        )\n",
    "        \n",
    "    def forward(self, x):\n",
    "        return self.model(x)"
   ]
  },
  {
   "cell_type": "code",
   "execution_count": null,
   "id": "c2467ffa-5581-453d-b3cf-4a268a21038f",
   "metadata": {},
   "outputs": [],
   "source": [
    "model = CNN()\n",
    "model"
   ]
  },
  {
   "cell_type": "markdown",
   "id": "29c36942-a585-43e2-9f3a-7f4fcad99bb1",
   "metadata": {},
   "source": [
    "# Dissecting Model and Saving Activation Maps"
   ]
  },
  {
   "cell_type": "code",
   "execution_count": null,
   "id": "371f526c-cb5a-451d-9e63-2b0cc34bbb72",
   "metadata": {},
   "outputs": [],
   "source": [
    "class dissected_CNN(CNN):\n",
    "    def __init__(self, return_last_activation=False):\n",
    "        super(dissected_CNN, self).__init__()\n",
    "        self.features = self.model[:21]\n",
    "        self.classifier = self.model[21]\n",
    "        self.return_last_activation = return_last_activation\n",
    "        \n",
    "    def forward(self, x):\n",
    "        f = self.features(x)\n",
    "        logits = self.classifier(f)\n",
    "        if self.return_last_activation:\n",
    "            return logits, f\n",
    "        else:\n",
    "            return logits"
   ]
  },
  {
   "cell_type": "code",
   "execution_count": null,
   "id": "d56b2ba6-8dc2-4a94-a033-cf9f6d38bf6b",
   "metadata": {},
   "outputs": [],
   "source": [
    "device = torch.device('cpu') \n",
    "dissected_model = dissected_CNN(return_last_activation=False).to(device)\n",
    "dissected_model.load_state_dict(torch.load(\"../CNN/Best models/CNN_3D_loss.pt\"), strict=False);"
   ]
  },
  {
   "cell_type": "code",
   "execution_count": null,
   "id": "77d07ef6-9805-4b65-892d-679cc0205bc2",
   "metadata": {},
   "outputs": [],
   "source": [
    "def predict(model, dataloader, device):\n",
    "    y_true = []\n",
    "    y_pred = []\n",
    "\n",
    "    model.eval()\n",
    "    with torch.no_grad():\n",
    "        for step, (x, y) in enumerate(dataloader):\n",
    "            x, y  = x.to(device), y.to(device)\n",
    "            logits = model(x)\n",
    "            preds = logits.argmax(1)\n",
    "            y_pred.append(preds.cpu().numpy())\n",
    "            y_true.append(y.cpu().numpy())\n",
    "\n",
    "    y_pred = np.concatenate(y_pred, axis=0)\n",
    "    y_true = np.concatenate(y_true, axis=0)\n",
    "    \n",
    "    return y_true, y_pred\n",
    "\n",
    "y_true, y_pred = predict(dissected_model, test_dataloader, device)\n",
    "sklearn_classification_report(y_true, y_pred)"
   ]
  },
  {
   "cell_type": "markdown",
   "id": "582960dd-7556-4d68-a262-7943fa1ba722",
   "metadata": {},
   "source": [
    "# Preparing Activation and Label Dataframes"
   ]
  },
  {
   "cell_type": "code",
   "execution_count": null,
   "id": "f6e81693-f588-476f-8c40-84f660e303a8",
   "metadata": {},
   "outputs": [],
   "source": [
    "x_train_df = pd.DataFrame()\n",
    "y_train_df = pd.DataFrame()\n",
    "x_test_df = pd.DataFrame()\n",
    "y_test_df = pd.DataFrame()\n",
    "\n",
    "dissected_model.return_last_activation = True\n",
    "dissected_model.eval()\n",
    "\n",
    "with torch.no_grad():\n",
    "    for sample, label in train_dataloader:\n",
    "            out, f = dissected_model(sample.to(device))\n",
    "\n",
    "            act_df = pd.DataFrame(f.detach().numpy())\n",
    "            label_df = pd.DataFrame(label.detach().numpy())\n",
    "\n",
    "            x_train_df = pd.concat([x_train_df, act_df])\n",
    "            y_train_df = pd.concat([y_train_df, label_df])\n",
    "\n",
    "with torch.no_grad():\n",
    "    for sample, label in test_dataloader:\n",
    "        out, f = dissected_model(sample.to(device))\n",
    "\n",
    "        act_df = pd.DataFrame(f.detach().numpy())\n",
    "        label_df = pd.DataFrame(label.detach().numpy())\n",
    "\n",
    "        x_test_df = pd.concat([x_test_df, act_df])\n",
    "        y_test_df = pd.concat([y_test_df, label_df])"
   ]
  },
  {
   "cell_type": "markdown",
   "id": "0d9b5676-9156-4984-ac80-16c9bc6916dd",
   "metadata": {},
   "source": [
    "# PCA"
   ]
  },
  {
   "cell_type": "code",
   "execution_count": null,
   "id": "bd1d667f-4ee1-46bd-b24e-e7efda6ebe12",
   "metadata": {},
   "outputs": [],
   "source": [
    "x_train_df = x_train_df.reset_index(drop=True)\n",
    "y_train_df = y_train_df.rename(columns={0: \"target\"}).reset_index(drop=True)\n",
    "x_test_df = x_test_df.reset_index(drop=True)\n",
    "y_test_df = y_test_df.rename(columns={0: \"target\"}).reset_index(drop=True)\n",
    "\n",
    "scaler = StandardScaler()\n",
    "x_train_std = scaler.fit_transform(x_train_df)\n",
    "x_test_std = scaler.fit_transform(x_test_df)\n",
    "\n",
    "pca = PCA(n_components=2)\n",
    "pca_train = pca.fit_transform(x_train_std)\n",
    "pca_test = pca.fit_transform(x_test_std)\n",
    "\n",
    "pca_train_df = pd.DataFrame(pca_train, columns = ['principal component 1', 'principal component 2'])\n",
    "pca_test_df = pd.DataFrame(pca_test, columns = ['principal component 1', 'principal component 2'])\n",
    "\n",
    "final_train_df = pd.concat([pca_train_df, y_train_df], axis = 1)\n",
    "final_test_df = pd.concat([pca_test_df, y_test_df], axis = 1)\n",
    "\n",
    "final_df = pd.concat([final_train_df, final_test_df], axis = 0, keys=['train', 'test'])\n",
    "final_df"
   ]
  },
  {
   "cell_type": "code",
   "execution_count": null,
   "id": "5134a31f-deaf-4f11-90fb-50731220a6c0",
   "metadata": {},
   "outputs": [],
   "source": [
    "fig, ax = plt.subplots(figsize = (8, 8), dpi=300)\n",
    "targets = [0, 1, 2]\n",
    "colors = ['r', 'g', 'b']\n",
    "\n",
    "for i in range(len(targets)):\n",
    "    sample_df = final_df[final_df['target'] == targets[i]]\n",
    "    \n",
    "    ax.scatter(sample_df.loc['train', 'principal component 1'],\n",
    "               sample_df.loc['train', 'principal component 2'],\n",
    "               s=150,\n",
    "               alpha=0.3,\n",
    "               c=colors[i],\n",
    "               marker='o',\n",
    "               label=f'{id2label[targets[i]]} (Train)'\n",
    "              )\n",
    "    \n",
    "    ax.scatter(sample_df.loc['test', 'principal component 1'],\n",
    "               sample_df.loc['test', 'principal component 2'],\n",
    "               s=150,\n",
    "               alpha=0.3,\n",
    "               c=colors[i],\n",
    "               marker='*',\n",
    "               label=f'{id2label[targets[i]]} (Test)'\n",
    "              )\n",
    "    \n",
    "ax.legend();\n",
    "ax.set_xlabel('Principle Component 1')\n",
    "ax.set_ylabel('Principle Component 2');\n",
    "# plt.savefig('PCA_CNN_3D.png')"
   ]
  },
  {
   "cell_type": "code",
   "execution_count": null,
   "id": "bb642856-8f50-49b9-b974-1d2691c3b268",
   "metadata": {},
   "outputs": [],
   "source": []
  }
 ],
 "metadata": {
  "kernelspec": {
   "display_name": "Python 3 (ipykernel)",
   "language": "python",
   "name": "python3"
  },
  "language_info": {
   "codemirror_mode": {
    "name": "ipython",
    "version": 3
   },
   "file_extension": ".py",
   "mimetype": "text/x-python",
   "name": "python",
   "nbconvert_exporter": "python",
   "pygments_lexer": "ipython3",
   "version": "3.9.7"
  }
 },
 "nbformat": 4,
 "nbformat_minor": 5
}
