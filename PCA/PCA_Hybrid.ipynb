{
 "cells": [
  {
   "cell_type": "code",
   "execution_count": null,
   "id": "bc2c3fcc-5ae2-4a23-a104-9606fb86214e",
   "metadata": {
    "tags": []
   },
   "outputs": [],
   "source": [
    "# Autoreload modules\n",
    "%load_ext autoreload\n",
    "%autoreload 2"
   ]
  },
  {
   "cell_type": "code",
   "execution_count": null,
   "id": "4eb5cbf8-9d6d-4f73-805c-0c351ce06900",
   "metadata": {},
   "outputs": [],
   "source": [
    "# To have access to moduels\n",
    "import sys,os\n",
    "sys.path.append(os.path.dirname(os.path.realpath('')) + '/Modules')"
   ]
  },
  {
   "cell_type": "code",
   "execution_count": null,
   "id": "84422c53-a127-4767-8ea5-9c8282b6fab4",
   "metadata": {},
   "outputs": [],
   "source": [
    "import numpy as np\n",
    "\n",
    "import torch\n",
    "import torch.nn as nn\n",
    "from torchvision.transforms import Compose, Resize\n",
    "\n",
    "from transformers import ViTConfig, ViTFeatureExtractor, ViTForImageClassification\n",
    "\n",
    "from matplotlib import pyplot as plt\n",
    "\n",
    "import pandas as pd\n",
    "from sklearn.decomposition import PCA\n",
    "from sklearn.preprocessing import StandardScaler\n",
    "\n",
    "from dataloader.dataset import ADNI3Channels\n",
    "from dataloader.dataloader import ADNILoader\n",
    "\n",
    "from utils.report import sklearn_classification_report"
   ]
  },
  {
   "cell_type": "markdown",
   "id": "3b159d54-7226-401c-816f-f83ee5783bff",
   "metadata": {
    "tags": []
   },
   "source": [
    "# Dataset and Dataloader Setup"
   ]
  },
  {
   "cell_type": "code",
   "execution_count": null,
   "id": "9f7ce338-184d-4378-a7da-d22ff6723aa0",
   "metadata": {},
   "outputs": [],
   "source": [
    "image_size = (384, 384)\n",
    "resize = Resize(size=image_size)\n",
    "\n",
    "train_transforms = Compose([resize])\n",
    "valid_transforms = Compose([resize])\n",
    "test_transforms = Compose([resize])"
   ]
  },
  {
   "cell_type": "code",
   "execution_count": null,
   "id": "4b9b2527-bf3f-4b5e-ac60-132b26c34f4c",
   "metadata": {},
   "outputs": [],
   "source": [
    "train_ds = ADNI3Channels(\"../Data/Training/\", transforms=train_transforms)\n",
    "valid_ds = ADNI3Channels(\"../Data/Validation/\", transforms=valid_transforms)\n",
    "test_ds = ADNI3Channels(\"../Data/Test/\", transforms=test_transforms)"
   ]
  },
  {
   "cell_type": "code",
   "execution_count": null,
   "id": "3be4e16a-ec1c-4e73-ba2f-6cc086513e4f",
   "metadata": {
    "tags": []
   },
   "outputs": [],
   "source": [
    "idx = 0\n",
    "image, label = train_ds[idx]\n",
    "\n",
    "print(\"Image shape:\", image.shape)\n",
    "print(\"Label:\", label.item())\n",
    "\n",
    "print(\"Number of training samples:\", len(train_ds))\n",
    "print(\"Number of validation samples:\", len(valid_ds))\n",
    "print(\"Number of test samples:\", len(test_ds), \"\\n\")\n",
    "\n",
    "fig, axes = plt.subplots(ncols=3, figsize=(6, 2), dpi=300)\n",
    "for i in range(3):\n",
    "    axes[i].imshow(image[i, :, :])\n",
    "    axes[i].axis(\"off\");\n",
    "    # print(image[i, :, :].min(), image[i, :, :].max())"
   ]
  },
  {
   "cell_type": "code",
   "execution_count": null,
   "id": "7dad412c",
   "metadata": {},
   "outputs": [],
   "source": [
    "id2label = {0: \"CN\", 1: \"MCI\", 2: \"AD\"}\n",
    "label2id = {\"CN\": 0, \"MCI\": 1, \"AD\": 2}\n",
    "\n",
    "print(id2label[label.item()])"
   ]
  },
  {
   "cell_type": "code",
   "execution_count": null,
   "id": "22f342a0-b447-4fb1-9f2d-f31478574b84",
   "metadata": {
    "tags": []
   },
   "outputs": [],
   "source": [
    "train_batch_size = 8\n",
    "valid_batch_size = 2\n",
    "test_batch_size = 2\n",
    "\n",
    "hparams = {'train_ds': train_ds,\n",
    "           'valid_ds': valid_ds,\n",
    "           'test_ds': test_ds,\n",
    "           'train_batch_size': train_batch_size,\n",
    "           'valid_batch_size': valid_batch_size,\n",
    "           'test_batch_size': test_batch_size,\n",
    "           'num_workers': 20,\n",
    "           'train_shuffle': True,\n",
    "           'valid_shuffle': False,\n",
    "           'test_shuffle': False,\n",
    "           'train_drop_last': True,\n",
    "           'valid_drop_last': False,\n",
    "           'test_drop_last': False,\n",
    "          }\n",
    "\n",
    "train_dataloader = ADNILoader(**hparams).train_dataloader()\n",
    "valid_dataloader= ADNILoader(**hparams).validation_dataloader()\n",
    "test_dataloader = ADNILoader(**hparams).test_dataloader()\n",
    "\n",
    "batch = next(iter(train_dataloader))\n",
    "print(batch[0].shape)\n",
    "print(batch[1].shape)"
   ]
  },
  {
   "cell_type": "markdown",
   "id": "8ed18ae1-e86b-4e18-a833-fd2abe0dfdcf",
   "metadata": {
    "tags": []
   },
   "source": [
    "# Model Development"
   ]
  },
  {
   "cell_type": "code",
   "execution_count": null,
   "id": "c87cab3b-b09d-4d5d-b77a-0fe10cff670f",
   "metadata": {
    "tags": []
   },
   "outputs": [],
   "source": [
    "class Model(nn.Module):\n",
    "    def __init__(self, num_labels=3, return_last_hidden_state=False):\n",
    "        super(Model, self).__init__()\n",
    "        self.return_last_hidden_state = return_last_hidden_state\n",
    "        self.resize = Resize(image_size)\n",
    "        self.cnn = nn.Sequential(\n",
    "            nn.Conv2d(in_channels=3, out_channels=8, kernel_size=(3, 3)),\n",
    "            nn.ReLU(),\n",
    "            nn.Conv2d(in_channels=8, out_channels=16, kernel_size=(3, 3)),\n",
    "            nn.ReLU(),\n",
    "            nn.MaxPool2d(kernel_size=(3, 3)),\n",
    "            nn.BatchNorm2d(num_features=16),\n",
    "            \n",
    "            nn.Conv2d(in_channels=16, out_channels=32, kernel_size=(3, 3)),\n",
    "            nn.ReLU(),\n",
    "            nn.Conv2d(in_channels=32, out_channels=3, kernel_size=(3, 3)),\n",
    "            nn.ReLU(),\n",
    "            nn.MaxPool2d(kernel_size=(3, 3)),\n",
    "            nn.BatchNorm2d(num_features=3)\n",
    "        )\n",
    "        \n",
    "        self.vit = ViTForImageClassification.from_pretrained('google/vit-base-patch32-384',\n",
    "                                                             # output_attentions=True,\n",
    "                                                             output_hidden_states=True,\n",
    "                                                             num_labels=num_labels,\n",
    "                                                             hidden_dropout_prob=0.1,\n",
    "                                                             # attention_probs_dropout_prob=0.1,\n",
    "                                                             ignore_mismatched_sizes=True)\n",
    "                \n",
    "    def forward(self, x):\n",
    "        outputs = self.cnn(x)\n",
    "        outputs = self.resize(outputs)\n",
    "        outputs = self.vit(outputs)\n",
    "        \n",
    "        if self.return_last_hidden_state:\n",
    "            return outputs.logits, outputs.hidden_states\n",
    "        else:\n",
    "            return outputs.logits"
   ]
  },
  {
   "cell_type": "markdown",
   "id": "e0e6e979-3857-49bd-900f-c4d29ac31710",
   "metadata": {},
   "source": [
    "# Saving Hidden States"
   ]
  },
  {
   "cell_type": "code",
   "execution_count": null,
   "id": "eae6da4e-8b63-4387-9785-b2d6378d8a4e",
   "metadata": {
    "tags": []
   },
   "outputs": [],
   "source": [
    "device = torch.device('cpu') \n",
    "model = Model(num_labels=3).to(device)\n",
    "feature_extractor = ViTFeatureExtractor.from_pretrained('google/vit-base-patch32-384',\n",
    "                                                        do_resize=False,\n",
    "                                                        do_normalize=False)\n",
    "\n",
    "model.load_state_dict(torch.load(\"../Hybrid/Best models/Hybrid_loss.pt\"))"
   ]
  },
  {
   "cell_type": "code",
   "execution_count": null,
   "id": "369805a8-1979-4962-bc98-ca92a35a37c4",
   "metadata": {},
   "outputs": [],
   "source": [
    "def predict(model, dataloader, device):\n",
    "    y_true = []\n",
    "    y_pred = []\n",
    "    \n",
    "    model.eval()\n",
    "    with torch.no_grad():\n",
    "        for step, (x, y) in enumerate(dataloader):\n",
    "            x = np.split(np.array(x), dataloader.batch_size)\n",
    "            for i in range(len(x)):\n",
    "                x[i] = np.squeeze(x[i])\n",
    "            x = torch.tensor(np.stack(feature_extractor(x)['pixel_values'], axis=0))\n",
    "            x, y  = x.to(device), y.to(device)\n",
    "            logits = model(x)\n",
    "            preds = logits.argmax(1)\n",
    "        \n",
    "            y_pred.append(preds.cpu().numpy())\n",
    "            y_true.append(y.cpu().numpy())\n",
    "\n",
    "    y_pred = np.concatenate(y_pred, axis=0)\n",
    "    y_true = np.concatenate(y_true, axis=0)\n",
    "    \n",
    "    return y_true, y_pred\n",
    "\n",
    "y_true, y_pred = predict(model, test_dataloader, device)\n",
    "sklearn_classification_report(y_true, y_pred)"
   ]
  },
  {
   "cell_type": "markdown",
   "id": "559633bf-b6c1-4f2c-847b-da4042ffb883",
   "metadata": {
    "tags": []
   },
   "source": [
    "# Preparing Activation and Label Dataframes"
   ]
  },
  {
   "cell_type": "code",
   "execution_count": null,
   "id": "ff7776d7-31cf-4ae3-b873-02bce471491d",
   "metadata": {},
   "outputs": [],
   "source": [
    "x_train_df = pd.DataFrame()\n",
    "y_train_df = pd.DataFrame()\n",
    "\n",
    "x_test_df = pd.DataFrame()\n",
    "y_test_df = pd.DataFrame()\n",
    "\n",
    "model.return_last_hidden_state = True\n",
    "model.eval()\n",
    "\n",
    "with torch.no_grad():\n",
    "    for sample, label in train_dataloader:\n",
    "        sample = np.split(np.array(sample), train_batch_size)\n",
    "        for i in range(len(sample)):\n",
    "            sample[i] = np.squeeze(sample[i])\n",
    "        sample = torch.tensor(np.stack(feature_extractor(sample)['pixel_values'], axis=0))\n",
    "        sample, label  = sample.to(device), label.to(device)\n",
    "        _, activation = model(sample)\n",
    "\n",
    "        act_df = pd.DataFrame(activation[12].reshape((train_batch_size, 145*768)).detach().numpy())\n",
    "        label_df = pd.DataFrame(label.detach().numpy())\n",
    "\n",
    "        x_train_df = pd.concat([x_train_df, act_df])\n",
    "        y_train_df = pd.concat([y_train_df, label_df])\n",
    "\n",
    "with torch.no_grad():\n",
    "    for sample, label in test_dataloader:\n",
    "        sample = np.split(np.array(sample), test_batch_size)\n",
    "        for i in range(len(sample)):\n",
    "            sample[i] = np.squeeze(sample[i])\n",
    "        sample = torch.tensor(np.stack(feature_extractor(sample)['pixel_values'], axis=0))\n",
    "        sample, label  = sample.to(device), label.to(device)\n",
    "        _, activation = model(sample)\n",
    "\n",
    "        act_df = pd.DataFrame(activation[12].reshape((test_batch_size, 145*768)).detach().numpy())\n",
    "        label_df = pd.DataFrame(label.detach().numpy())\n",
    "\n",
    "        x_test_df = pd.concat([x_test_df, act_df])\n",
    "        y_test_df = pd.concat([y_test_df, label_df])"
   ]
  },
  {
   "cell_type": "markdown",
   "id": "a918b01c-cdf7-4fec-815f-f560b29f7305",
   "metadata": {},
   "source": [
    "# PCA"
   ]
  },
  {
   "cell_type": "code",
   "execution_count": null,
   "id": "f00e28a7-0029-4181-8275-4609a36a0106",
   "metadata": {},
   "outputs": [],
   "source": [
    "x_train_df = x_train_df.reset_index(drop=True)\n",
    "y_train_df = y_train_df.rename(columns={0: \"target\"}).reset_index(drop=True)\n",
    "x_test_df = x_test_df.reset_index(drop=True)\n",
    "y_test_df = y_test_df.rename(columns={0: \"target\"}).reset_index(drop=True)\n",
    "\n",
    "scaler = StandardScaler()\n",
    "x_train_std = scaler.fit_transform(x_train_df)\n",
    "x_test_std = scaler.fit_transform(x_test_df)\n",
    "\n",
    "pca = PCA(n_components=2)\n",
    "pca_train = pca.fit_transform(x_train_std)\n",
    "pca_test = pca.fit_transform(x_test_std)\n",
    "\n",
    "pca_train_df = pd.DataFrame(pca_train, columns = ['principal component 1', 'principal component 2'])\n",
    "pca_test_df = pd.DataFrame(pca_test, columns = ['principal component 1', 'principal component 2'])\n",
    "\n",
    "final_train_df = pd.concat([pca_train_df, y_train_df], axis = 1)\n",
    "final_test_df = pd.concat([pca_test_df, y_test_df], axis = 1)\n",
    "\n",
    "final_df = pd.concat([final_train_df, final_test_df], axis = 0, keys=['train', 'test'])\n",
    "final_df"
   ]
  },
  {
   "cell_type": "code",
   "execution_count": null,
   "id": "749e2089-281e-48ca-a7f1-d6de9e0b2ae5",
   "metadata": {},
   "outputs": [],
   "source": [
    "fig, ax = plt.subplots(figsize = (8, 8), dpi=300)\n",
    "targets = [0, 1, 2]\n",
    "colors = ['r', 'g', 'b']\n",
    "\n",
    "for i in range(len(targets)):\n",
    "    sample_df = final_df[final_df['target'] == targets[i]]\n",
    "    \n",
    "    ax.scatter(sample_df.loc['train', 'principal component 1'],\n",
    "               sample_df.loc['train', 'principal component 2'],\n",
    "               s=150,\n",
    "               alpha=0.3,\n",
    "               c=colors[i],\n",
    "               marker='o',\n",
    "               label=f'{id2label[targets[i]]} (Train)'\n",
    "              )\n",
    "    \n",
    "    ax.scatter(sample_df.loc['test', 'principal component 1'],\n",
    "               sample_df.loc['test', 'principal component 2'],\n",
    "               s=150,\n",
    "               alpha=0.3,\n",
    "               c=colors[i],\n",
    "               marker='*',\n",
    "               label=f'{id2label[targets[i]]} (Test)'\n",
    "              )\n",
    "    \n",
    "ax.legend();\n",
    "ax.set_xlabel('Principle Component 1')\n",
    "ax.set_ylabel('Principle Component 2');\n",
    "# plt.savefig('PCA_Hybrid.png')"
   ]
  },
  {
   "cell_type": "code",
   "execution_count": null,
   "id": "24997e8c-40e7-4d73-9f54-6e8b89937bff",
   "metadata": {},
   "outputs": [],
   "source": []
  }
 ],
 "metadata": {
  "kernelspec": {
   "display_name": "Python 3 (ipykernel)",
   "language": "python",
   "name": "python3"
  },
  "language_info": {
   "codemirror_mode": {
    "name": "ipython",
    "version": 3
   },
   "file_extension": ".py",
   "mimetype": "text/x-python",
   "name": "python",
   "nbconvert_exporter": "python",
   "pygments_lexer": "ipython3",
   "version": "3.9.7"
  }
 },
 "nbformat": 4,
 "nbformat_minor": 5
}
