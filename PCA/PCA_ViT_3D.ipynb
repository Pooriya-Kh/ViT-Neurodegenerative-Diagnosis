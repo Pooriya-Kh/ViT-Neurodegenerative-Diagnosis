{
 "cells": [
  {
   "cell_type": "code",
   "execution_count": null,
   "id": "bc2c3fcc-5ae2-4a23-a104-9606fb86214e",
   "metadata": {
    "tags": []
   },
   "outputs": [],
   "source": [
    "# Autoreload modules\n",
    "%load_ext autoreload\n",
    "%autoreload 2"
   ]
  },
  {
   "cell_type": "code",
   "execution_count": null,
   "id": "7d066efe-b634-4cf0-87ad-fcca66b10c84",
   "metadata": {},
   "outputs": [],
   "source": [
    "# To have access to moduels\n",
    "import sys,os\n",
    "sys.path.append(os.path.dirname(os.path.realpath('')) + '/Modules')"
   ]
  },
  {
   "cell_type": "code",
   "execution_count": null,
   "id": "87a91ef6-1fd5-48c0-b44c-8eb60cc1869d",
   "metadata": {},
   "outputs": [],
   "source": [
    "import numpy as np\n",
    "\n",
    "import torch\n",
    "import torch.nn as nn\n",
    "from transformers import ViTConfig, ViTFeatureExtractor, ViTForImageClassification\n",
    "\n",
    "from matplotlib import pyplot as plt\n",
    "\n",
    "import pandas as pd\n",
    "from sklearn.decomposition import PCA\n",
    "from sklearn.preprocessing import StandardScaler\n",
    "\n",
    "from dataloader.dataset import ADNI\n",
    "from dataloader.dataloader import ADNILoader\n",
    "\n",
    "from utils.report import sklearn_classification_report"
   ]
  },
  {
   "cell_type": "markdown",
   "id": "878ac833-17a2-4c92-98af-9b7519d64419",
   "metadata": {
    "tags": []
   },
   "source": [
    "# Dataset and Dataloader Setup"
   ]
  },
  {
   "cell_type": "code",
   "execution_count": null,
   "id": "d3a2315a-aa8b-41f3-882a-5914d2dfa43e",
   "metadata": {},
   "outputs": [],
   "source": [
    "image_size = (79, 95)\n",
    "\n",
    "train_ds = ADNI(\"../Data/Training/\", transforms=None, extra_channel_dim=False, rotate=False)\n",
    "valid_ds = ADNI(\"../Data/Validation/\", transforms=None, extra_channel_dim=False, rotate=False)\n",
    "test_ds = ADNI(\"../Data/Test/\", transforms=None, extra_channel_dim=False, rotate=False)"
   ]
  },
  {
   "cell_type": "code",
   "execution_count": null,
   "id": "3be4e16a-ec1c-4e73-ba2f-6cc086513e4f",
   "metadata": {
    "tags": []
   },
   "outputs": [],
   "source": [
    "idx = 0\n",
    "image, label = train_ds[idx]\n",
    "\n",
    "print(\"Image shape:\", image.shape)\n",
    "print(\"Label:\", label.item())\n",
    "\n",
    "print(\"Number of training samples:\", len(train_ds))\n",
    "print(\"Number of validation samples:\", len(valid_ds))\n",
    "print(\"Number of test samples:\", len(test_ds), \"\\n\")\n",
    "\n",
    "fig, axes = plt.subplots(nrows=6, ncols=10, figsize=(3, 2), dpi=300)\n",
    "for row in range(6):\n",
    "    for col in range(10):\n",
    "        idx = row * 10 + col\n",
    "        axes[row, col].imshow(image[idx, :, :])\n",
    "        axes[row, col].axis(\"off\");\n",
    "        # print(image[idx, :, :].min(), image[idx, :, :].max())"
   ]
  },
  {
   "cell_type": "code",
   "execution_count": null,
   "id": "7dad412c",
   "metadata": {
    "tags": []
   },
   "outputs": [],
   "source": [
    "id2label = {0: \"CN\", 1: \"MCI\", 2: \"AD\"}\n",
    "label2id = {\"CN\": 0, \"MCI\": 1, \"AD\": 2}\n",
    "\n",
    "print(id2label[label.item()])"
   ]
  },
  {
   "cell_type": "code",
   "execution_count": null,
   "id": "22f342a0-b447-4fb1-9f2d-f31478574b84",
   "metadata": {
    "tags": []
   },
   "outputs": [],
   "source": [
    "train_batch_size = 15\n",
    "valid_batch_size = 10\n",
    "test_batch_size = 10\n",
    "\n",
    "hparams = {'train_ds': train_ds,\n",
    "           'valid_ds': valid_ds,\n",
    "           'test_ds': test_ds,\n",
    "           'train_batch_size': train_batch_size,\n",
    "           'valid_batch_size': valid_batch_size,\n",
    "           'test_batch_size': test_batch_size,\n",
    "           'num_workers': 20,\n",
    "           'train_shuffle': False,\n",
    "           'valid_shuffle': False,\n",
    "           'test_shuffle': False,\n",
    "           'train_drop_last': True,\n",
    "           'valid_drop_last': False,\n",
    "           'test_drop_last': False,\n",
    "          }\n",
    "\n",
    "train_dataloader = ADNILoader(**hparams).train_dataloader()\n",
    "valid_dataloader= ADNILoader(**hparams).validation_dataloader()\n",
    "test_dataloader = ADNILoader(**hparams).test_dataloader()\n",
    "\n",
    "batch = next(iter(train_dataloader))\n",
    "print(batch[0].shape)\n",
    "print(batch[1].shape)"
   ]
  },
  {
   "cell_type": "markdown",
   "id": "8ed18ae1-e86b-4e18-a833-fd2abe0dfdcf",
   "metadata": {
    "tags": []
   },
   "source": [
    "# Model Development"
   ]
  },
  {
   "cell_type": "code",
   "execution_count": null,
   "id": "02971611-72e4-4a49-a777-ccb48a0d5773",
   "metadata": {
    "tags": []
   },
   "outputs": [],
   "source": [
    "vit_config = ViTConfig(image_size=image_size,\n",
    "                       patch_size=32,\n",
    "                       num_labels=3,\n",
    "                       num_channels=60,\n",
    "                       num_hidden_layers=12,\n",
    "                       hidden_size=768,\n",
    "                       intermediate_size=3072,\n",
    "                       num_attention_heads=12,\n",
    "                       output_attentions=True,\n",
    "                       output_hidden_states=True,\n",
    "                       hidden_dropout_prob=0,\n",
    "                       attention_probs_dropout_prob=0,\n",
    "                      )"
   ]
  },
  {
   "cell_type": "code",
   "execution_count": null,
   "id": "128553f7-5df2-4781-824f-dd93bd903943",
   "metadata": {},
   "outputs": [],
   "source": [
    "class ViT(nn.Module):\n",
    "    def __init__(self, num_labels=3, return_last_hidden_state=False):\n",
    "        super(ViT, self).__init__()\n",
    "        self.return_last_hidden_state = return_last_hidden_state\n",
    "        self.vit = ViTForImageClassification(vit_config)\n",
    "        \n",
    "    def forward(self, x):\n",
    "        outputs = self.vit(x)\n",
    "        if self.return_last_hidden_state:\n",
    "            return outputs.logits, outputs.attentions, outputs.hidden_states\n",
    "        else:\n",
    "            return outputs.logits, outputs.attentions"
   ]
  },
  {
   "cell_type": "markdown",
   "id": "8784d5ba-fc83-4e32-8ccc-cbd0e3c85129",
   "metadata": {},
   "source": [
    "# Saving Hidden States"
   ]
  },
  {
   "cell_type": "code",
   "execution_count": null,
   "id": "ef41ef33-8d39-4018-a977-c439e6e1136a",
   "metadata": {},
   "outputs": [],
   "source": [
    "device = torch.device('cpu') \n",
    "model = ViT(return_last_hidden_state=False).to(device)\n",
    "feature_extractor = ViTFeatureExtractor(size=image_size,\n",
    "                                        do_resize=False,\n",
    "                                        do_normalize=False)\n",
    "\n",
    "model.load_state_dict(torch.load(\"../ViT/Best models/ViT_3D_acc.pt\"))"
   ]
  },
  {
   "cell_type": "code",
   "execution_count": null,
   "id": "c33f417a-5665-4468-a2eb-d127e24d2b5b",
   "metadata": {},
   "outputs": [],
   "source": [
    "def predict(model, dataloader, device):\n",
    "    y_true = []\n",
    "    y_pred = []\n",
    "    \n",
    "    model.eval()\n",
    "    with torch.no_grad():\n",
    "        for step, (x, y) in enumerate(dataloader):\n",
    "            x = np.split(np.array(x), dataloader.batch_size)\n",
    "            for i in range(len(x)):\n",
    "                x[i] = np.squeeze(x[i])\n",
    "            x = torch.tensor(np.stack(feature_extractor(x)['pixel_values'], axis=0))\n",
    "            x, y  = x.to(device), y.to(device)\n",
    "            logits, _ = model(x)\n",
    "            preds = logits.argmax(1)\n",
    "        \n",
    "            y_pred.append(preds.cpu().numpy())\n",
    "            y_true.append(y.cpu().numpy())\n",
    "\n",
    "    y_pred = np.concatenate(y_pred, axis=0)\n",
    "    y_true = np.concatenate(y_true, axis=0)\n",
    "    \n",
    "    return y_true, y_pred\n",
    "\n",
    "y_true, y_pred = predict(model, test_dataloader, device)\n",
    "sklearn_classification_report(y_true, y_pred)"
   ]
  },
  {
   "cell_type": "markdown",
   "id": "a67006c7-4308-44eb-8aca-376c641c7409",
   "metadata": {
    "tags": []
   },
   "source": [
    "# Preparing Activation and Label Dataframes"
   ]
  },
  {
   "cell_type": "code",
   "execution_count": null,
   "id": "a2b6c4d7-e999-4fbd-94de-2f718dd8cd56",
   "metadata": {},
   "outputs": [],
   "source": [
    "x_train_df = pd.DataFrame()\n",
    "y_train_df = pd.DataFrame()\n",
    "\n",
    "x_test_df = pd.DataFrame()\n",
    "y_test_df = pd.DataFrame()\n",
    "\n",
    "model.return_last_hidden_state = True\n",
    "model.eval()\n",
    "\n",
    "with torch.no_grad():\n",
    "    for sample, label in train_dataloader:\n",
    "        sample = np.split(np.array(sample), train_batch_size)\n",
    "        for i in range(len(sample)):\n",
    "            sample[i] = np.squeeze(sample[i])\n",
    "        sample = torch.tensor(np.stack(feature_extractor(sample)['pixel_values'], axis=0))\n",
    "        sample, label  = sample.to(device), label.to(device)\n",
    "        _, _, activation = model(sample)\n",
    "\n",
    "        act_df = pd.DataFrame(activation[12].reshape((train_batch_size, 5*768)).detach().numpy())\n",
    "        label_df = pd.DataFrame(label.detach().numpy())\n",
    "\n",
    "        x_train_df = pd.concat([x_train_df, act_df])\n",
    "        y_train_df = pd.concat([y_train_df, label_df])\n",
    "\n",
    "with torch.no_grad():\n",
    "    for sample, label in test_dataloader:\n",
    "        sample = np.split(np.array(sample), test_batch_size)\n",
    "        for i in range(len(sample)):\n",
    "            sample[i] = np.squeeze(sample[i])\n",
    "        sample = torch.tensor(np.stack(feature_extractor(sample)['pixel_values'], axis=0))\n",
    "        sample, label  = sample.to(device), label.to(device)\n",
    "        _, _, activation = model(sample)\n",
    "\n",
    "        act_df = pd.DataFrame(activation[12].reshape((test_batch_size, 5*768)).detach().numpy())\n",
    "        label_df = pd.DataFrame(label.detach().numpy())\n",
    "\n",
    "        x_test_df = pd.concat([x_test_df, act_df])\n",
    "        y_test_df = pd.concat([y_test_df, label_df])"
   ]
  },
  {
   "cell_type": "markdown",
   "id": "65712d49-0c24-4dce-af40-64ce4d936a7e",
   "metadata": {},
   "source": [
    "# PCA"
   ]
  },
  {
   "cell_type": "code",
   "execution_count": null,
   "id": "4bc5fcc7-7b41-44f5-9682-72c59e064427",
   "metadata": {},
   "outputs": [],
   "source": [
    "x_train_df = x_train_df.reset_index(drop=True)\n",
    "y_train_df = y_train_df.rename(columns={0: \"target\"}).reset_index(drop=True)\n",
    "x_test_df = x_test_df.reset_index(drop=True)\n",
    "y_test_df = y_test_df.rename(columns={0: \"target\"}).reset_index(drop=True)\n",
    "\n",
    "scaler = StandardScaler()\n",
    "x_train_std = scaler.fit_transform(x_train_df)\n",
    "x_test_std = scaler.fit_transform(x_test_df)\n",
    "\n",
    "pca = PCA(n_components=2)\n",
    "pca_train = pca.fit_transform(x_train_std)\n",
    "pca_test = pca.fit_transform(x_test_std)\n",
    "\n",
    "pca_train_df = pd.DataFrame(pca_train, columns = ['principal component 1', 'principal component 2'])\n",
    "pca_test_df = pd.DataFrame(pca_test, columns = ['principal component 1', 'principal component 2'])\n",
    "\n",
    "final_train_df = pd.concat([pca_train_df, y_train_df], axis = 1)\n",
    "final_test_df = pd.concat([pca_test_df, y_test_df], axis = 1)\n",
    "\n",
    "final_df = pd.concat([final_train_df, final_test_df], axis = 0, keys=['train', 'test'])\n",
    "final_df"
   ]
  },
  {
   "cell_type": "code",
   "execution_count": null,
   "id": "3d9dfb99-aee9-4869-bcf5-689b8ca792b8",
   "metadata": {},
   "outputs": [],
   "source": [
    "fig, ax = plt.subplots(figsize = (8, 8), dpi=300)\n",
    "targets = [0, 1, 2]\n",
    "colors = ['r', 'g', 'b']\n",
    "\n",
    "for i in range(len(targets)):\n",
    "    sample_df = final_df[final_df['target'] == targets[i]]\n",
    "    \n",
    "    ax.scatter(sample_df.loc['train', 'principal component 1'],\n",
    "               sample_df.loc['train', 'principal component 2'],\n",
    "               s=150,\n",
    "               alpha=0.3,\n",
    "               c=colors[i],\n",
    "               marker='o',\n",
    "               label=f'{id2label[targets[i]]} (Train)'\n",
    "              )\n",
    "    \n",
    "    ax.scatter(sample_df.loc['test', 'principal component 1'],\n",
    "               sample_df.loc['test', 'principal component 2'],\n",
    "               s=150,\n",
    "               alpha=0.3,\n",
    "               c=colors[i],\n",
    "               marker='*',\n",
    "               label=f'{id2label[targets[i]]} (Test)'\n",
    "              )\n",
    "    \n",
    "ax.legend();\n",
    "ax.set_xlabel('Principle Component 1')\n",
    "ax.set_ylabel('Principle Component 2');\n",
    "# plt.savefig('PCA_ViT_3D.png')"
   ]
  },
  {
   "cell_type": "code",
   "execution_count": null,
   "id": "2a3f5f06-46b9-47e9-a21c-264087703734",
   "metadata": {},
   "outputs": [],
   "source": []
  }
 ],
 "metadata": {
  "kernelspec": {
   "display_name": "Python 3 (ipykernel)",
   "language": "python",
   "name": "python3"
  },
  "language_info": {
   "codemirror_mode": {
    "name": "ipython",
    "version": 3
   },
   "file_extension": ".py",
   "mimetype": "text/x-python",
   "name": "python",
   "nbconvert_exporter": "python",
   "pygments_lexer": "ipython3",
   "version": "3.9.7"
  }
 },
 "nbformat": 4,
 "nbformat_minor": 5
}
