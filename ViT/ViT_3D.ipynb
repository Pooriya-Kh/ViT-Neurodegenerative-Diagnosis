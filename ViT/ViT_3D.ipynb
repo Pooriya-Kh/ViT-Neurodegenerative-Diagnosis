{
 "cells": [
  {
   "cell_type": "code",
   "execution_count": null,
   "id": "bc2c3fcc-5ae2-4a23-a104-9606fb86214e",
   "metadata": {
    "tags": []
   },
   "outputs": [],
   "source": [
    "# Autoreload modules\n",
    "%load_ext autoreload\n",
    "%autoreload 2"
   ]
  },
  {
   "cell_type": "code",
   "execution_count": null,
   "id": "7d066efe-b634-4cf0-87ad-fcca66b10c84",
   "metadata": {},
   "outputs": [],
   "source": [
    "# To have access to moduels\n",
    "import sys,os\n",
    "sys.path.append(os.path.dirname(os.path.realpath('')) + '/Modules')"
   ]
  },
  {
   "cell_type": "code",
   "execution_count": null,
   "id": "87a91ef6-1fd5-48c0-b44c-8eb60cc1869d",
   "metadata": {},
   "outputs": [],
   "source": [
    "import numpy as np\n",
    "\n",
    "import torch\n",
    "import torch.nn as nn\n",
    "from torch.optim import AdamW, Adam\n",
    "from torch.optim.lr_scheduler import ExponentialLR\n",
    "from torch.utils.tensorboard import SummaryWriter\n",
    "from torchmetrics import Accuracy\n",
    "\n",
    "from torchvision.transforms import Compose, GaussianBlur, RandomRotation, RandomChoice, RandomApply, RandomAffine\n",
    "from dataloader.transforms import GaussianNoise\n",
    "\n",
    "from copy import deepcopy\n",
    "\n",
    "from colorama import Fore\n",
    "\n",
    "from matplotlib import pyplot as plt\n",
    "\n",
    "from transformers import ViTConfig, ViTFeatureExtractor, ViTForImageClassification\n",
    "\n",
    "from dataloader.dataset import ADNI\n",
    "from dataloader.dataloader import ADNILoader\n",
    "\n",
    "from utils.utils import count_parameters, save_model\n",
    "from utils.report import sklearn_classification_report, custom_classification_report"
   ]
  },
  {
   "cell_type": "markdown",
   "id": "878ac833-17a2-4c92-98af-9b7519d64419",
   "metadata": {
    "tags": []
   },
   "source": [
    "# Dataset and Dataloader Setup"
   ]
  },
  {
   "cell_type": "code",
   "execution_count": null,
   "id": "21421e5e-1fec-4996-917f-bf47cbe06372",
   "metadata": {},
   "outputs": [],
   "source": [
    "image_size = (79, 95)\n",
    "\n",
    "gaussian_blur = GaussianBlur(kernel_size=(3, 3), sigma=(0.1, 2))\n",
    "gaussian_noise = GaussianNoise(mean=0, std=0.1)\n",
    "random_rotation = RandomRotation(degrees=5)\n",
    "random_translate = RandomAffine(degrees=0, translate=(0.05, 0.05))\n",
    "random_choice = RandomChoice([gaussian_blur,\n",
    "                              gaussian_noise,\n",
    "                              #random_rotation,\n",
    "                              #random_translate,\n",
    "                             ])\n",
    "\n",
    "random_transforms = RandomApply([random_choice], p=0.7)\n",
    "\n",
    "train_transforms = Compose([random_transforms])\n",
    "valid_transforms = Compose([])\n",
    "test_transforms = Compose([])"
   ]
  },
  {
   "cell_type": "code",
   "execution_count": null,
   "id": "d3a2315a-aa8b-41f3-882a-5914d2dfa43e",
   "metadata": {},
   "outputs": [],
   "source": [
    "train_ds = ADNI(\"../Data/Training/\", transforms=train_transforms)\n",
    "valid_ds = ADNI(\"../Data/Validation/\", transforms=valid_transforms)\n",
    "test_ds = ADNI(\"../Data/Test/\", transforms=test_transforms)"
   ]
  },
  {
   "cell_type": "code",
   "execution_count": null,
   "id": "3be4e16a-ec1c-4e73-ba2f-6cc086513e4f",
   "metadata": {
    "tags": []
   },
   "outputs": [],
   "source": [
    "idx = 0\n",
    "image, label = train_ds[idx]\n",
    "\n",
    "print(\"Image shape:\", image.shape)\n",
    "print(\"Label:\", label.item())\n",
    "\n",
    "print(\"Number of training samples:\", len(train_ds))\n",
    "print(\"Number of validation samples:\", len(valid_ds))\n",
    "print(\"Number of test samples:\", len(test_ds), \"\\n\")\n",
    "\n",
    "fig, axes = plt.subplots(nrows=6, ncols=10, figsize=(3, 2), dpi=300)\n",
    "for row in range(6):\n",
    "    for col in range(10):\n",
    "        idx = row * 10 + col\n",
    "        axes[row, col].imshow(image[idx, :, :])\n",
    "        axes[row, col].axis(\"off\");\n",
    "        # print(image[idx, :, :].min(), image[idx, :, :].max())"
   ]
  },
  {
   "cell_type": "code",
   "execution_count": null,
   "id": "7dad412c",
   "metadata": {
    "tags": []
   },
   "outputs": [],
   "source": [
    "id2label = {0: \"CN\", 1: \"MCI\", 2: \"AD\"}\n",
    "label2id = {\"CN\": 0, \"MCI\": 1, \"AD\": 2}\n",
    "\n",
    "print(id2label[label.item()])"
   ]
  },
  {
   "cell_type": "code",
   "execution_count": null,
   "id": "22f342a0-b447-4fb1-9f2d-f31478574b84",
   "metadata": {
    "tags": []
   },
   "outputs": [],
   "source": [
    "train_batch_size = 15\n",
    "valid_batch_size = 10\n",
    "test_batch_size = 10\n",
    "\n",
    "hparams = {'train_ds': train_ds,\n",
    "           'valid_ds': valid_ds,\n",
    "           'test_ds': test_ds,\n",
    "           'train_batch_size': train_batch_size,\n",
    "           'valid_batch_size': valid_batch_size,\n",
    "           'test_batch_size': test_batch_size,\n",
    "           'num_workers': 20,\n",
    "           'train_shuffle': True,\n",
    "           'valid_shuffle': False,\n",
    "           'test_shuffle': False,\n",
    "           'train_drop_last': True,\n",
    "           'valid_drop_last': False,\n",
    "           'test_drop_last': False,\n",
    "          }\n",
    "\n",
    "train_dataloader = ADNILoader(**hparams).train_dataloader()\n",
    "valid_dataloader= ADNILoader(**hparams).validation_dataloader()\n",
    "test_dataloader = ADNILoader(**hparams).test_dataloader()\n",
    "\n",
    "batch = next(iter(train_dataloader))\n",
    "print(batch[0].shape)\n",
    "print(batch[1].shape)"
   ]
  },
  {
   "cell_type": "markdown",
   "id": "8ed18ae1-e86b-4e18-a833-fd2abe0dfdcf",
   "metadata": {
    "tags": []
   },
   "source": [
    "# Model Development"
   ]
  },
  {
   "cell_type": "code",
   "execution_count": null,
   "id": "02971611-72e4-4a49-a777-ccb48a0d5773",
   "metadata": {
    "tags": []
   },
   "outputs": [],
   "source": [
    "vit_config = ViTConfig(image_size=image_size,\n",
    "                       patch_size=32,\n",
    "                       num_labels=3,\n",
    "                       num_channels=60,\n",
    "                       num_hidden_layers=12,\n",
    "                       hidden_size=768,\n",
    "                       intermediate_size=3072,\n",
    "                       num_attention_heads=12,\n",
    "                       output_attentions=True,\n",
    "                       hidden_dropout_prob=0,\n",
    "                       attention_probs_dropout_prob=0,\n",
    "                      )"
   ]
  },
  {
   "cell_type": "code",
   "execution_count": null,
   "id": "ce827c11",
   "metadata": {},
   "outputs": [],
   "source": [
    "class ViT(nn.Module):\n",
    "    def __init__(self, num_labels=3):\n",
    "        super(ViT, self).__init__()\n",
    "        self.vit = ViTForImageClassification(vit_config)\n",
    "        \n",
    "    def forward(self, x):\n",
    "        outputs = self.vit(x)\n",
    "        return outputs.logits, outputs.attentions"
   ]
  },
  {
   "cell_type": "code",
   "execution_count": null,
   "id": "eae6da4e-8b63-4387-9785-b2d6378d8a4e",
   "metadata": {
    "tags": []
   },
   "outputs": [],
   "source": [
    "# Selecting GPU\n",
    "GPU = {0: torch.device('cuda:0'),\n",
    "       1: torch.device('cuda:1'),\n",
    "       2: torch.device('cuda' if torch.cuda.is_available() else 'cpu')\n",
    "      }\n",
    "\n",
    "## Single-GPU trining\n",
    "device = GPU[1]\n",
    "model = ViT(num_labels=3).to(device)\n",
    "\n",
    "## Multi-GPU training\n",
    "# device = GPU[2]\n",
    "# model = ViT(num_labels=3, pretrained=pretrained)\n",
    "# model= nn.DataParallel(model)\n",
    "# model.to(device);\n",
    "\n",
    "feature_extractor = ViTFeatureExtractor(size=image_size,\n",
    "                                        do_resize=False,\n",
    "                                        do_normalize=False)\n",
    "\n",
    "\n",
    "optimizer = Adam(model.parameters(), lr=5e-6, weight_decay=1e-3)\n",
    "\n",
    "class_0_freq = 140\n",
    "class_1_freq = 160\n",
    "class_2_freq = 160\n",
    "weight = torch.tensor([1/class_0_freq, 1/class_1_freq, 1/class_2_freq]).to(device)\n",
    "criterion = nn.CrossEntropyLoss()\n",
    "\n",
    "accuracy = Accuracy()\n",
    "writer = SummaryWriter()\n",
    "scheduler = ExponentialLR(optimizer, gamma=0.999)"
   ]
  },
  {
   "cell_type": "code",
   "execution_count": null,
   "id": "75ef66b7-c338-4f09-be61-f12a766d97ef",
   "metadata": {
    "tags": []
   },
   "outputs": [],
   "source": [
    "epochs = 100\n",
    "train_accs = []\n",
    "valid_accs = []\n",
    "train_losses = []\n",
    "valid_losses = []\n",
    "best_loss = 100\n",
    "best_acc = 0\n",
    "saved = False\n",
    "patience = 0\n",
    "early_stop = 10\n",
    "\n",
    "for epoch in range(epochs):\n",
    "    print(Fore.YELLOW + f\"Epoch: {(epoch+1):02}/{epochs}\")\n",
    "    for step, (x, y) in enumerate(train_dataloader):\n",
    "        x = np.split(np.array(x), train_batch_size)\n",
    "        for i in range(len(x)):\n",
    "            x[i] = np.squeeze(x[i])\n",
    "        x = torch.tensor(np.stack(feature_extractor(x)['pixel_values'], axis=0))\n",
    "        x, y  = x.to(device), y.to(device)\n",
    "        logits, _ = model(x)\n",
    "        criterion.weight = weight\n",
    "        loss = criterion(logits, y)\n",
    "        preds = logits.argmax(1)\n",
    "        acc = accuracy(y.cpu(), preds.cpu())\n",
    "        optimizer.zero_grad()           \n",
    "        loss.backward()                 \n",
    "        optimizer.step()\n",
    "        train_losses.append(loss.item())\n",
    "        train_accs.append(acc.item())\n",
    "    \n",
    "        if (step % 7 == 0) or (step == len(train_dataloader)):\n",
    "            train_loss = sum(train_losses)/len(train_losses)\n",
    "            train_acc = sum(train_accs)/len(train_accs)\n",
    "            writer.add_scalar('train_loss', train_loss, epoch * len(train_dataloader) + step)\n",
    "            writer.add_scalar('train_acc', train_acc, epoch * len(train_dataloader) + step)\n",
    "            train_losses.clear()\n",
    "            train_accs.clear()\n",
    "            \n",
    "            model.eval() \n",
    "            with torch.no_grad():\n",
    "                for x, y in valid_dataloader:\n",
    "                    x = np.split(np.array(x), valid_batch_size)\n",
    "                    for i in range(len(x)):\n",
    "                        x[i] = np.squeeze(x[i])\n",
    "                    x = torch.tensor(np.stack(feature_extractor(x)['pixel_values'], axis=0))\n",
    "                    x, y  = x.to(device), y.to(device)\n",
    "                    logits, _ = model(x)\n",
    "                    criterion.weight = None\n",
    "                    loss = criterion(logits, y)\n",
    "                    preds = logits.argmax(1)\n",
    "                    acc = accuracy(y.cpu(), preds.cpu())\n",
    "                    valid_losses.append(loss.item())\n",
    "                    valid_accs.append(acc.item())\n",
    "            \n",
    "            valid_loss = sum(valid_losses)/len(valid_losses)\n",
    "            valid_acc = sum(valid_accs)/len(valid_accs)\n",
    "            writer.add_scalar('valid_loss', valid_loss, epoch * len(train_dataloader) + step)\n",
    "            writer.add_scalar('valid_acc', valid_acc, epoch * len(train_dataloader) + step)\n",
    "            valid_losses.clear()\n",
    "            valid_accs.clear()\n",
    "            \n",
    "            if best_loss > valid_loss:\n",
    "                best_loss = valid_loss\n",
    "                best_model_loss = deepcopy(model.state_dict())\n",
    "                saved = True\n",
    "                \n",
    "            if best_acc < valid_acc:\n",
    "                best_acc = valid_acc\n",
    "                best_model_acc = deepcopy(model.state_dict())\n",
    "                saved = True\n",
    "                \n",
    "            if saved:\n",
    "                print(Fore.GREEN + f\"Training Loss(Accuracy): {train_loss:.2f}({train_acc:.2f}), Validation Loss(Accuracy): {valid_loss:.2f}({valid_acc:.2f})\")\n",
    "                saved = False\n",
    "                patience = 0\n",
    "            else:\n",
    "                print(Fore.RED + f\"Training Loss(Accuracy): {train_loss:.2f}({train_acc:.2f}), Validation Loss(Accuracy): {valid_loss:.2f}({valid_acc:.2f})\")\n",
    "\n",
    "            model.train()\n",
    "    \n",
    "    scheduler.step()\n",
    "    \n",
    "    print(Fore.YELLOW + \"=\" * 74)\n",
    "    \n",
    "    if patience >= early_stop:\n",
    "        print(\"Early stop activated!\")\n",
    "        break\n",
    "        \n",
    "    patience += 1"
   ]
  },
  {
   "cell_type": "markdown",
   "id": "a617db47-33b0-46e9-a939-c0814ec68098",
   "metadata": {},
   "source": [
    "# Save and Load Model"
   ]
  },
  {
   "cell_type": "code",
   "execution_count": null,
   "id": "321b7a43-e72e-45ab-8b2b-11fd2fe2ad9e",
   "metadata": {},
   "outputs": [],
   "source": [
    "save_model(best_model_loss, \"Best models/\", \"ViT_3D_loss.pt\")\n",
    "save_model(best_model_acc, \"Best models/\", \"ViT_3D_acc.pt\")"
   ]
  },
  {
   "cell_type": "code",
   "execution_count": null,
   "id": "c33f417a-5665-4468-a2eb-d127e24d2b5b",
   "metadata": {},
   "outputs": [],
   "source": [
    "model.load_state_dict(torch.load(\"Best models/ViT_3D_acc.pt\"))"
   ]
  },
  {
   "cell_type": "markdown",
   "id": "a67006c7-4308-44eb-8aca-376c641c7409",
   "metadata": {
    "tags": []
   },
   "source": [
    "# Evaluation"
   ]
  },
  {
   "cell_type": "code",
   "execution_count": null,
   "id": "e49cddf6-5602-42c2-ab6b-4cba3fc81eb8",
   "metadata": {},
   "outputs": [],
   "source": [
    "train_transforms = Compose([])\n",
    "\n",
    "train_ds = ADNI(\"../Data/Training/\", transforms=train_transforms)\n",
    "\n",
    "hparams['train_ds'] = train_ds\n",
    "hparams['train_shuffle'] = False\n",
    "\n",
    "train_dataloader = ADNILoader(**hparams).train_dataloader()"
   ]
  },
  {
   "cell_type": "code",
   "execution_count": null,
   "id": "f2315ec6-32dd-43a3-8084-9f8a134916b6",
   "metadata": {},
   "outputs": [],
   "source": [
    "def predict(model, dataloader, device):\n",
    "    y_true = []\n",
    "    y_pred = []\n",
    "    \n",
    "    model.eval()\n",
    "    with torch.no_grad():\n",
    "        for step, (x, y) in enumerate(dataloader):\n",
    "            x = np.split(np.array(x), dataloader.batch_size)\n",
    "            for i in range(len(x)):\n",
    "                x[i] = np.squeeze(x[i])\n",
    "            x = torch.tensor(np.stack(feature_extractor(x)['pixel_values'], axis=0))\n",
    "            x, y  = x.to(device), y.to(device)\n",
    "            logits, _ = model(x)\n",
    "            preds = logits.argmax(1)\n",
    "        \n",
    "            y_pred.append(preds.cpu().numpy())\n",
    "            y_true.append(y.cpu().numpy())\n",
    "\n",
    "    y_pred = np.concatenate(y_pred, axis=0)\n",
    "    y_true = np.concatenate(y_true, axis=0)\n",
    "    \n",
    "    return y_true, y_pred\n",
    "\n",
    "y_true, y_pred = predict(model, valid_dataloader, device)\n",
    "custom_classification_report(y_true, y_pred)\n",
    "sklearn_classification_report(y_true, y_pred)\n",
    "print('#'*53)\n",
    "\n",
    "y_true, y_pred = predict(model, test_dataloader, device)\n",
    "custom_classification_report(y_true, y_pred)\n",
    "sklearn_classification_report(y_true, y_pred)\n",
    "print('#'*53)"
   ]
  },
  {
   "cell_type": "code",
   "execution_count": null,
   "id": "a2b6c4d7-e999-4fbd-94de-2f718dd8cd56",
   "metadata": {},
   "outputs": [],
   "source": []
  }
 ],
 "metadata": {
  "kernelspec": {
   "display_name": "Python 3 (ipykernel)",
   "language": "python",
   "name": "python3"
  },
  "language_info": {
   "codemirror_mode": {
    "name": "ipython",
    "version": 3
   },
   "file_extension": ".py",
   "mimetype": "text/x-python",
   "name": "python",
   "nbconvert_exporter": "python",
   "pygments_lexer": "ipython3",
   "version": "3.9.7"
  }
 },
 "nbformat": 4,
 "nbformat_minor": 5
}
